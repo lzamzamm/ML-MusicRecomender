{
 "cells": [
  {
   "cell_type": "code",
   "execution_count": 14,
   "id": "8d81869d",
   "metadata": {},
   "outputs": [
    {
     "data": {
      "text/plain": [
       "['music-recomender.joblib']"
      ]
     },
     "execution_count": 14,
     "metadata": {},
     "output_type": "execute_result"
    }
   ],
   "source": [
    "import pandas as pd\n",
    "from sklearn.tree import DecisionTreeClassifier\n",
    "# from sklearn.model_selection import train_test_split\n",
    "# from sklearn.metrics import accuracy_score\n",
    "import joblib\n",
    "\n",
    "#import data\n",
    "music_data = pd.read_csv('music.csv')\n",
    "music_data\n",
    "\n",
    "#prepare the data\n",
    "X = music_data.drop(columns=['genre'])\n",
    "y = music_data['genre']\n",
    "# X_train, X_test, y_train, y_test = train_test_split(X, y, test_size=0.8)\n",
    "\n",
    "#Create a model with algorithm\n",
    "model = DecisionTreeClassifier()\n",
    "model.fit(X, y)\n",
    "# model.fit(X_train, y_train)\n",
    "\n",
    "#store the model to file\n",
    "joblib.dump(model, 'music-recomender.joblib')\n",
    "\n",
    "#create oredictions\n",
    "# predictions = model.predict(X_test)\n",
    "# score = accuracy_score(y_test, predictions)\n",
    "# score"
   ]
  },
  {
   "cell_type": "code",
   "execution_count": null,
   "id": "7dfc959d",
   "metadata": {},
   "outputs": [],
   "source": []
  },
  {
   "cell_type": "code",
   "execution_count": null,
   "id": "5674320b",
   "metadata": {},
   "outputs": [],
   "source": []
  }
 ],
 "metadata": {
  "kernelspec": {
   "display_name": "Python 3 (ipykernel)",
   "language": "python",
   "name": "python3"
  },
  "language_info": {
   "codemirror_mode": {
    "name": "ipython",
    "version": 3
   },
   "file_extension": ".py",
   "mimetype": "text/x-python",
   "name": "python",
   "nbconvert_exporter": "python",
   "pygments_lexer": "ipython3",
   "version": "3.9.13"
  }
 },
 "nbformat": 4,
 "nbformat_minor": 5
}
